{
 "cells": [
  {
   "cell_type": "code",
   "execution_count": 3,
   "metadata": {},
   "outputs": [],
   "source": [
    "import pandas as pd\n"
   ]
  },
  {
   "cell_type": "code",
   "execution_count": null,
   "metadata": {},
   "outputs": [],
   "source": [
    "#!python -m pip install requests\n",
    "\n",
    "#conda install -c anaconda requests"
   ]
  },
  {
   "cell_type": "code",
   "execution_count": 1,
   "metadata": {},
   "outputs": [],
   "source": [
    "\n",
    "\n",
    "import requests # request img from web\n",
    "#import shutil # save img locally"
   ]
  },
  {
   "cell_type": "code",
   "execution_count": 4,
   "metadata": {},
   "outputs": [],
   "source": [
    "iNat_images = pd.read_csv('Data/iNat_train_val_image_DL_list.csv', sep=\",\")\n",
    "\n",
    "#deployment file list for testing/deploying on a sample of 55,000 of iNat observations\n",
    "### WARNING ### Uses alot of data (5gb) and is slow - only do if you really need/want to replicate the test deployment \n",
    "#iNat_images = pd.read_csv('Data/iNat_deployment_DL_list_55k.csv', sep=\",\")\n",
    "\n",
    "\n",
    "iNat_images['image_url']=iNat_images['image_url'].str.replace('medium', 'large')"
   ]
  },
  {
   "cell_type": "code",
   "execution_count": null,
   "metadata": {},
   "outputs": [],
   "source": [
    "# need to manually create an Images folder in working directory if not already present\n",
    "\n",
    "for ind in iNat_images.index:\n",
    "    response = requests.get(iNat_images['image_url'][ind])\n",
    "    \n",
    "    if response.status_code:\n",
    "        fp = open('Images/'+str(iNat_images['id'][ind])+'.jpg', 'wb')\n",
    "        fp.write(response.content)\n",
    "        fp.close()\n",
    "\n",
    "\n"
   ]
  }
 ],
 "metadata": {
  "kernelspec": {
   "display_name": "Python 3",
   "language": "python",
   "name": "python3"
  },
  "language_info": {
   "codemirror_mode": {
    "name": "ipython",
    "version": 3
   },
   "file_extension": ".py",
   "mimetype": "text/x-python",
   "name": "python",
   "nbconvert_exporter": "python",
   "pygments_lexer": "ipython3",
   "version": "3.11.5"
  },
  "orig_nbformat": 4,
  "vscode": {
   "interpreter": {
    "hash": "72b2382ece9768098284d92bbc69d35954e75b60d1e25897d1389c232f4796f0"
   }
  }
 },
 "nbformat": 4,
 "nbformat_minor": 2
}
